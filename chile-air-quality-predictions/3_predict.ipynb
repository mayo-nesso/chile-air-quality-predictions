{
 "cells": [
  {
   "cell_type": "markdown",
   "metadata": {},
   "source": [
    "# Santiago Air Quality Predictions: PM 2.5\n",
    "\n",
    "<div class=\"alert\">\n",
    "<h5>Data Prediction for Areas Adjacent to Monitoring Stations:</h5>\n",
    "\n",
    "In this third notebook, we aim to predict air quality (PM 2.5) for areas near monitoring stations. We will perform data imputation for these neighboring regions and visualize the results on a map of the Region Metropolitana de Santiago.\n",
    "\n",
    "Additionally, an animation will be created to dynamically explore the evolution of air quality in that specific area.\n",
    "</div>"
   ]
  },
  {
   "cell_type": "code",
   "execution_count": null,
   "metadata": {},
   "outputs": [],
   "source": [
    "import os\n",
    "import warnings\n",
    "from datetime import timedelta\n",
    "\n",
    "import folium\n",
    "import folium.plugins as plugins\n",
    "import pandas as pd\n",
    "\n",
    "import src.predict_utils as predict_utils"
   ]
  },
  {
   "cell_type": "code",
   "execution_count": null,
   "metadata": {},
   "outputs": [],
   "source": [
    "# Jupyter notebooks will cache the scripts, \n",
    "# but this allows for automatic reloading of updated scripts, \n",
    "# eliminating the need to manually reload each time.\n",
    "%load_ext autoreload\n",
    "%autoreload 2"
   ]
  },
  {
   "cell_type": "code",
   "execution_count": null,
   "metadata": {},
   "outputs": [],
   "source": [
    "# Filter warnings...\n",
    "warnings.filterwarnings(\"ignore\")"
   ]
  },
  {
   "cell_type": "code",
   "execution_count": null,
   "metadata": {},
   "outputs": [],
   "source": [
    "# Load the dataset with missing values filled in.\n",
    "destination_path = os.path.join('./data/interim/', 'stations_data_with_imputed_values.feather')\n",
    "\n",
    "full_dataset = pd.read_feather(destination_path)\n",
    "full_dataset['DateTime'] = pd.to_datetime(full_dataset['DateTime'], dayfirst=True)\n",
    "\n",
    "# a little check...\n",
    "full_dataset.tail(5)"
   ]
  },
  {
   "cell_type": "markdown",
   "metadata": {},
   "source": [
    "<div class=\"alert\">\n",
    "In the previous notebook, we selected KNN as the method for imputing our values.<p>\n",
    "\n",
    "Now, our focus is on determining the optimal k parameter to use.\n",
    "A larger k has the potential to enhance predictions, but it comes with increased computational costs.<p>\n",
    "\n",
    "</div>\n"
   ]
  },
  {
   "cell_type": "code",
   "execution_count": null,
   "metadata": {},
   "outputs": [],
   "source": [
    "# Make an estimate of mean absolute error (MAE) for a range of k values.\n",
    "kmin = 1\n",
    "kmax = 10\n",
    "\n",
    "# For this evaluation we will use a subset of the data to speed up the process...\n",
    "for kneighbors in range(kmin, kmax + 1):\n",
    "    mae = predict_utils.calculate_mae_for_k(full_dataset, k=kneighbors, target_pollutant=\"PM2.5\")\n",
    "    print(f'k = {kneighbors}, MAE = {mae}')"
   ]
  },
  {
   "cell_type": "markdown",
   "metadata": {},
   "source": [
    "<div class=\"alert\">\n",
    "Upon analysis, it becomes evident that a k value of 3 or 4 seems to be a good choice, as the improvement over the next values is relatively marginal.\n",
    "\n",
    "We have decided to proceed with k=4.\n",
    "</div>\n"
   ]
  },
  {
   "cell_type": "code",
   "execution_count": null,
   "metadata": {},
   "outputs": [],
   "source": [
    "k = 4\n",
    "target = 'PM2.5'\n",
    "\n",
    "# We set the start_date and the end_date as the last 24h\n",
    "start_date = full_dataset['DateTime'].max() - timedelta(hours=24)\n",
    "end_date = start_date + timedelta(hours=24)\n",
    "\n",
    "predict_utils.create_heat_map_with_date_range(full_dataset, start_date, end_date, k, target)"
   ]
  },
  {
   "cell_type": "markdown",
   "metadata": {},
   "source": [
    "<div class=\"alert\">\n",
    "After examining the heatmap, we proceed to generate an animation that visually illustrates the evolution of air quality.<p>\n",
    "\n",
    "Since we are using the whole dataset, this could take some time...\n",
    "</div>\n"
   ]
  },
  {
   "cell_type": "code",
   "execution_count": null,
   "metadata": {},
   "outputs": [],
   "source": [
    "# Choose parameters for the animation\n",
    "k = 4\n",
    "n_points_grid = 128\n",
    "\n",
    "# Filter a date range, in this case the last 12hours!\n",
    "delta_range = timedelta(hours=12)\n",
    "start_date = full_dataset['DateTime'].max() - delta_range\n",
    "end_date = start_date + delta_range\n",
    "\n",
    "# Create the features for the animation (these are the shapes that will appear on the map)\n",
    "features = predict_utils.create_animation_features(full_dataset, start_date, end_date, k, n_points_grid, target)\n",
    "print('Features for the animation created successfully! Run the next cell to see the result!')"
   ]
  },
  {
   "cell_type": "markdown",
   "metadata": {},
   "source": [
    "<div class=\"alert\">\n",
    "And finally we have our animation for areas near monitoring stations. \n",
    "</div>\n"
   ]
  },
  {
   "cell_type": "code",
   "execution_count": null,
   "metadata": {},
   "outputs": [],
   "source": [
    "scl_location = (-33.45694, -70.64827)\n",
    "\n",
    "# Create the map animation using the folium library\n",
    "map_animation = folium.Map(location=scl_location, zoom_start=11) \n",
    "# Add the features to the animation\n",
    "plugins.TimestampedGeoJson(\n",
    "    {\"type\": \"FeatureCollection\", \"features\": features},\n",
    "    period=\"PT1H\",\n",
    "    duration='PT1H',\n",
    "    add_last_point=True\n",
    ").add_to(map_animation)\n",
    "\n",
    "# Run the animation\n",
    "map_animation"
   ]
  }
 ],
 "metadata": {
  "kernelspec": {
   "display_name": ".venv",
   "language": "python",
   "name": "python3"
  },
  "language_info": {
   "codemirror_mode": {
    "name": "ipython",
    "version": 3
   },
   "file_extension": ".py",
   "mimetype": "text/x-python",
   "name": "python",
   "nbconvert_exporter": "python",
   "pygments_lexer": "ipython3",
   "version": "3.10.12"
  }
 },
 "nbformat": 4,
 "nbformat_minor": 2
}
