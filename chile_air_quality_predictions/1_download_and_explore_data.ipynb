{
 "cells": [
  {
   "cell_type": "markdown",
   "metadata": {},
   "source": [
    "# Santiago Air Quality Predictions: PM 2.5\n",
    "\n",
    "<div class=\"alert\">\n",
    "<h5>Download, Explore and Preprocess Sensor Data:</h5>\n",
    "\n",
    "In this notebook, our main goal is to obtain data from air quality stations located throughout Santiago, Chile. \n",
    "\n",
    "Additionally, we will include GPS coordinates for each station. \n",
    "This step is essential as we intend to use the KNN algorithm, which depends on spatial information.\n",
    "\n",
    "</div> "
   ]
  },
  {
   "cell_type": "code",
   "execution_count": null,
   "metadata": {},
   "outputs": [],
   "source": [
    "from datetime import datetime\n",
    "\n",
    "import itables\n",
    "\n",
    "import src.eda_utils as eda_utils"
   ]
  },
  {
   "cell_type": "code",
   "execution_count": null,
   "metadata": {},
   "outputs": [],
   "source": [
    "# Jupyter notebooks will cache the scripts, \n",
    "# but this allows for automatic reloading of updated scripts, \n",
    "# eliminating the need to manually reload each time.\n",
    "%load_ext autoreload\n",
    "%autoreload 2"
   ]
  },
  {
   "cell_type": "markdown",
   "metadata": {},
   "source": [
    "<div class=\"alert\">\n",
    "\n",
    "First, let's visit the Chilean government's website, https://sinca.mma.gob.cl, to explore the available data.\n",
    "\n",
    "Upon initial inspection, we observe various stations, noting that some are offline. \n",
    "These correspond to stations that no longer report data (but did so in the past).<br>\n",
    "As we are interested in the most recent data, we will only work with the stations that are online.\n",
    "\n",
    "Upon reviewing the files, we find that in addition to the offline stations, the 'Independencia' station has data only until 2022. \n",
    "For this reason, we will exclude it. \n",
    "\n",
    "</div> "
   ]
  },
  {
   "cell_type": "code",
   "execution_count": null,
   "metadata": {},
   "outputs": [],
   "source": [
    "stations = {\n",
    "    \"Cerrillos II\":     ('RM', 'D35'),\n",
    "    \"Cerro Navia\":      ('RM', 'D18'),\n",
    "    \"El Bosque\":        ('RM', 'D17'),\n",
    "    #\"Independencia\":   ('RM', 'D11'), # We remove this one\n",
    "    \"La Florida\":       ('RM', 'D12'),\n",
    "    \"Las Condes\":       ('RM', 'D13'),\n",
    "    \"Pudhahuel\" :       ('RM', 'D15'),\n",
    "    \"Puente Alto\":      ('RM', 'D27'),\n",
    "    \"Quilicura\":        ('RM', 'D30'),\n",
    "    \"Parque O'Higgins\": ('RM', 'D14'),\n",
    "    \"Talagante\":        ('RM', 'D28'),\n",
    "}\n"
   ]
  },
  {
   "cell_type": "markdown",
   "metadata": {},
   "source": [
    "<div class=\"alert\">\n",
    "Downloading the data and creating a dataframe to analyze various pollutants. \n",
    "\n",
    "The core logic resides in the `eda_utils` module to maintain a clean notebook structure and enable code reuse in automated development.\n",
    "\n",
    "This separation ensures that the analysis section remains focused, while the utility functions are organized externally for modularity.\n",
    "</div> \n"
   ]
  },
  {
   "cell_type": "code",
   "execution_count": null,
   "metadata": {},
   "outputs": [],
   "source": [
    "df25 = eda_utils.get_pollutant_df(stations, 'PM25')\n",
    "df10 = eda_utils.get_pollutant_df(stations, 'PM10')"
   ]
  },
  {
   "cell_type": "code",
   "execution_count": null,
   "metadata": {},
   "outputs": [],
   "source": [
    "# Explore data;\n",
    "itables.show(df25)\n",
    "itables.show(df10)"
   ]
  },
  {
   "cell_type": "code",
   "execution_count": null,
   "metadata": {},
   "outputs": [],
   "source": [
    "# Explore N/As ;\n",
    "eda_utils.create_station_na_heatmap(df25, \"PM2.5\")\n",
    "eda_utils.create_station_na_heatmap(df10, \"PM10\")"
   ]
  },
  {
   "cell_type": "markdown",
   "metadata": {},
   "source": [
    "<div class=\"alert\">\n",
    "We can see that the Cerrillos station has the highest number of NA values in the oldest samples. \n",
    "\n",
    "Other stations have null values in some validated records, but they have preliminary data or are still unvalidated. \n",
    "\n",
    "</div> "
   ]
  },
  {
   "cell_type": "code",
   "execution_count": null,
   "metadata": {},
   "outputs": [],
   "source": [
    "# After a quick examination of the graphs, for simplicity, we will set the \n",
    "# calculated pollutant value as the first non-null value from the following columns:\n",
    "\n",
    "df25['PM2.5'] = df25[['Validated Records', 'Preliminary Records', 'Unvalidated Records']].bfill(axis=1).iloc[:, 0]\n",
    "df10['PM10'] = df10[['Validated Records', 'Preliminary Records', 'Unvalidated Records']].bfill(axis=1).iloc[:, 0]"
   ]
  },
  {
   "cell_type": "code",
   "execution_count": null,
   "metadata": {},
   "outputs": [],
   "source": [
    "# And drop the columns...\n",
    "df25 = df25.drop(columns=['Validated Records', 'Preliminary Records', 'Unvalidated Records'])\n",
    "df10 = df10.drop(columns=['Validated Records', 'Preliminary Records', 'Unvalidated Records'])"
   ]
  },
  {
   "cell_type": "code",
   "execution_count": null,
   "metadata": {},
   "outputs": [],
   "source": [
    "# Now we create a single dataframe with both pollutants\n",
    "df = df25.merge(df10, on=['Station','DateTime'], how='outer')"
   ]
  },
  {
   "cell_type": "markdown",
   "metadata": {},
   "source": [
    "<div class=\"alert\">\n",
    "\n",
    "We encounter a challenge related to reporting delays in the data. At times, there is a lag of one or two weeks before the data becomes available.\n",
    "\n",
    "\n",
    "To simplify our analysis and mitigate potential complications arising from missing values due to delayed reporting rather than sensor errors, we have decided to trim the affected data.\n",
    "\n",
    "</div>"
   ]
  },
  {
   "cell_type": "code",
   "execution_count": null,
   "metadata": {},
   "outputs": [],
   "source": [
    "df = eda_utils.trim_unreported_data(df, ['PM2.5', 'PM10'])"
   ]
  },
  {
   "cell_type": "markdown",
   "metadata": {},
   "source": [
    "<div class=\"alert\">\n",
    "We will explore the nature of the data a bit further, both by station and by pollutant.\n",
    "</div> "
   ]
  },
  {
   "cell_type": "code",
   "execution_count": null,
   "metadata": {},
   "outputs": [],
   "source": [
    "eda_utils.create_histogram_plot(df, 64)"
   ]
  },
  {
   "cell_type": "code",
   "execution_count": null,
   "metadata": {},
   "outputs": [],
   "source": [
    "# Generate boxplots of pollutant values for each sensor station\n",
    "eda_utils.create_boxplot(df)"
   ]
  },
  {
   "cell_type": "markdown",
   "metadata": {},
   "source": [
    "<div class=\"alert\">\n",
    "We will examine the potential correlation between `PM2.5` and `PM10`.\n",
    "</div> "
   ]
  },
  {
   "cell_type": "code",
   "execution_count": null,
   "metadata": {},
   "outputs": [],
   "source": [
    "eda_utils.create_scatterplot(df) "
   ]
  },
  {
   "cell_type": "markdown",
   "metadata": {},
   "source": [
    "<div class=\"alert\">\n",
    "Now, we will investigate the changes in pollutants over a specified time range.\n",
    "</div> "
   ]
  },
  {
   "cell_type": "code",
   "execution_count": null,
   "metadata": {},
   "outputs": [],
   "source": [
    "start_date = datetime(2021, 1, 1)\n",
    "end_date = datetime(2023, 11, 30)\n",
    "# generate a time series plot of pollutant data for a paricular station\n",
    "eda_utils.create_time_series_plot(df, start_date, end_date)"
   ]
  },
  {
   "cell_type": "markdown",
   "metadata": {},
   "source": [
    "<div class=\"alert\">\n",
    "<h5>GPS Coordinates !</h5>\n",
    "\n",
    "In this phase, we will integrate geographic coordinates from stations to augment our dataset with GPS information for each measurement.\n",
    "</div> "
   ]
  },
  {
   "cell_type": "code",
   "execution_count": null,
   "metadata": {},
   "outputs": [],
   "source": [
    "station_data = eda_utils.get_coordinates_df()\n",
    "station_data"
   ]
  },
  {
   "cell_type": "code",
   "execution_count": null,
   "metadata": {},
   "outputs": [],
   "source": [
    "df = eda_utils.merge_gps_data(df, station_data)\n",
    "\n",
    "# look how it went!\n",
    "df.head(5)"
   ]
  },
  {
   "cell_type": "markdown",
   "metadata": {},
   "source": [
    "<div class=\"alert\">\n",
    "Finally, export the processed data!\n",
    "</div> "
   ]
  },
  {
   "cell_type": "code",
   "execution_count": null,
   "metadata": {},
   "outputs": [],
   "source": [
    "eda_utils.save_interim_data(df, 'stations_data')"
   ]
  }
 ],
 "metadata": {
  "kernelspec": {
   "display_name": ".venv",
   "language": "python",
   "name": "python3"
  },
  "language_info": {
   "codemirror_mode": {
    "name": "ipython",
    "version": 3
   },
   "file_extension": ".py",
   "mimetype": "text/x-python",
   "name": "python",
   "nbconvert_exporter": "python",
   "pygments_lexer": "ipython3",
   "version": "3.10.12"
  }
 },
 "nbformat": 4,
 "nbformat_minor": 2
}
