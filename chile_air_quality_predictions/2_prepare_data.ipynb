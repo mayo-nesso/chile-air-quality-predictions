{
 "cells": [
  {
   "cell_type": "markdown",
   "metadata": {},
   "source": [
    "# Santiago Air Quality Predictions: PM 2.5\n",
    "\n",
    "<div class=\"alert\">\n",
    "<h5>Data Preparation and Missing Value Handling:</h5>\n",
    "\n",
    "In this second notebook, our focus is on preparing the data for analysis. \n",
    "\n",
    "We will examine various methods for handling missing values, exploring alternatives to fill in the gaps and selecting the most appropriate approach for our dataset.\n",
    "</div> "
   ]
  },
  {
   "cell_type": "code",
   "execution_count": null,
   "metadata": {},
   "outputs": [],
   "source": [
    "import os\n",
    "import warnings\n",
    "from datetime import datetime\n",
    "\n",
    "import pandas as pd\n",
    "from itables import show\n",
    "\n",
    "import src.prepare_utils as prep_utils"
   ]
  },
  {
   "cell_type": "code",
   "execution_count": null,
   "metadata": {},
   "outputs": [],
   "source": [
    "# Jupyter notebooks will cache the scripts, \n",
    "# but this allows for automatic reloading of updated scripts, \n",
    "# eliminating the need to manually reload each time.\n",
    "%load_ext autoreload\n",
    "%autoreload 2"
   ]
  },
  {
   "cell_type": "code",
   "execution_count": null,
   "metadata": {},
   "outputs": [],
   "source": [
    "# Filter warnings...\n",
    "warnings.filterwarnings(\"ignore\")"
   ]
  },
  {
   "cell_type": "code",
   "execution_count": null,
   "metadata": {},
   "outputs": [],
   "source": [
    "# Read the data from the previous notebook\n",
    "destination_path = os.path.join('./data/interim/', 'stations_data.feather')\n",
    "df = pd.read_feather(destination_path)"
   ]
  },
  {
   "cell_type": "markdown",
   "metadata": {},
   "source": [
    "<div class=\"alert\">\n",
    "Given our objective of filling missing values, our initial step involves an exploration of these gaps in the data.\n",
    "</div> "
   ]
  },
  {
   "cell_type": "code",
   "execution_count": null,
   "metadata": {},
   "outputs": [],
   "source": [
    "# A simple count give us an general idea\n",
    "df.isnull().sum()"
   ]
  },
  {
   "cell_type": "markdown",
   "metadata": {},
   "source": [
    "<div class=\"alert\">\n",
    "Checking out the missing data with some graphs to get a better idea of what's happening.\n",
    "</div> "
   ]
  },
  {
   "cell_type": "code",
   "execution_count": null,
   "metadata": {},
   "outputs": [],
   "source": [
    "# A quick review on n/a\n",
    "prep_utils.create_na_heatmap_plot(df)"
   ]
  },
  {
   "cell_type": "code",
   "execution_count": null,
   "metadata": {},
   "outputs": [],
   "source": [
    "# test\n",
    "# show(df[(df['Station'] == \"Cerrillos II\") & (df['PM2.5'].isna()) ])\n",
    "show(df[(df['Station'] == \"Cerrillos II\") & (df['PM2.5'].isna()) ])"
   ]
  },
  {
   "cell_type": "markdown",
   "metadata": {},
   "source": [
    "<div class=\"alert\">\n",
    "<h5>Exploration of imputation alternatives for PM2.5</h>\n",
    "\n",
    "</div>"
   ]
  },
  {
   "cell_type": "markdown",
   "metadata": {},
   "source": [
    "<div class=\"alert\">\n",
    "We notice that certain stations encounter more issues than others. There are instances of single occurrences as well as windows of missing values. \n",
    "\n",
    "It's important to note that a five one-hour gap is not the same as one gap of five hours. A great way to visualize this is by plotting the distribution of gaps in the data.\n",
    "</div> "
   ]
  },
  {
   "cell_type": "code",
   "execution_count": null,
   "metadata": {},
   "outputs": [],
   "source": [
    "# Plot the distribution of gap sizes in the data\n",
    "prep_utils.plot_distribution_of_gaps(df, target='PM2.5',  distribution_length=180)"
   ]
  },
  {
   "cell_type": "markdown",
   "metadata": {},
   "source": [
    "<div class=\"alert\">\n",
    "We can see that we have a lot of frequent but short segments, but also a few longer gaps, some around to 100, 150, where the longest is 169 hours!\n",
    "</div>"
   ]
  },
  {
   "cell_type": "markdown",
   "metadata": {},
   "source": [
    "<div class=\"alert\">\n",
    "<h3>Explore Simple Methods for Estimating Missing Values on PM2.5</h3>\n",
    "\n",
    "Perhaps the most straightforward way to estimate missing value in your data is to simply take the last known value in the series and use it to replace the missing value. Another option would be to use a current measurement from the nearest station (nearest neighbor method).\n",
    "</div>\n"
   ]
  },
  {
   "cell_type": "markdown",
   "metadata": {},
   "source": [
    "<div class=\"alert\">\n",
    "But also, we see that the two pollutant show a good level of correlation, so a Lineal Regression should be considered as alternative.\n",
    "</div>"
   ]
  },
  {
   "cell_type": "code",
   "execution_count": null,
   "metadata": {},
   "outputs": [],
   "source": [
    "pollutants_list = ['PM2.5', 'PM10']\n",
    "df[pollutants_list].corr()"
   ]
  },
  {
   "cell_type": "markdown",
   "metadata": {},
   "source": [
    "<div class=\"alert\">\n",
    "We are going to display the different alternatives:\n",
    "</div>"
   ]
  },
  {
   "cell_type": "code",
   "execution_count": null,
   "metadata": {},
   "outputs": [],
   "source": [
    "# Specify some date to plot\n",
    "day = datetime(2023, 10, 6)\n",
    "\n",
    "# Create a plot to display the linear interpolation for a range of hours\n",
    "prep_utils.visualize_missing_values_estimation_pm25(df, day)"
   ]
  },
  {
   "cell_type": "markdown",
   "metadata": {},
   "source": [
    "<div class=\"alert\">\n",
    "Through this simple exploration, it becomes apparent that Nearest Neighbor and Linear Regression tend to yield better results, particularly for longer data gaps.\n",
    "<p>\n",
    "\n",
    "However, we will leverage the Median Absolute Error, which measures how far predictions deviate from actual data, to determine the optimal approach. <br> \n",
    "To establish a baseline model, we will calculate the mean and then explore alternative methods, including a Simple Imputer using the mode, Nearest Neighbor, and Linear Regression.\n",
    "</div>\n"
   ]
  },
  {
   "cell_type": "code",
   "execution_count": null,
   "metadata": {},
   "outputs": [],
   "source": [
    "# Imputation scores\n",
    "pm25_inputation_scores = {}\n",
    "\n",
    "pm25_inputation__mean_model, pm25_inputation_scores['baseline_model (mean)'] = prep_utils.calculate_mae_for_station_using_mean(df, target='PM2.5')\n",
    "pm25_inputation__mode_model, pm25_inputation_scores['Mode'] = prep_utils.calculate_mae_for_station_using_mode(df, target='PM2.5')\n",
    "pm25_inputation__knn_model, pm25_inputation_scores['KNN'] = prep_utils.calculate_mae_for_nearest_station(df, target='PM2.5')\n",
    "pm25_inputation__lr_model, pm25_inputation_scores['Lineal Resgression'] = prep_utils.calculate_mae_for_station_using_lr(df, independent='PM10', target='PM2.5')"
   ]
  },
  {
   "cell_type": "code",
   "execution_count": null,
   "metadata": {},
   "outputs": [],
   "source": [
    "prep_utils.print_mae_results(pm25_inputation_scores)"
   ]
  },
  {
   "cell_type": "markdown",
   "metadata": {},
   "source": [
    "<div class=\"alert\">\n",
    "As we can see, a classic Lineal Regression has the lowest MAE.\n",
    "\n",
    "However, considering the presence of NA values in some PM10 entries, we will explore methods for imputing those missing values.\n",
    "</div>"
   ]
  },
  {
   "cell_type": "markdown",
   "metadata": {},
   "source": [
    "<div class=\"alert\">\n",
    "<h5>Exploration of imputation alternatives for PM10</h>\n",
    "\n",
    "</div> "
   ]
  },
  {
   "cell_type": "code",
   "execution_count": null,
   "metadata": {},
   "outputs": [],
   "source": [
    "# Plot the distribution of gap sizes in the data\n",
    "prep_utils.plot_distribution_of_gaps(df, target='PM10')"
   ]
  },
  {
   "cell_type": "markdown",
   "metadata": {},
   "source": [
    "<div class=\"alert\">\n",
    "<h3>Explore Simple Methods for Estimating Missing Values in PM10</h3>\n",
    "\n",
    "In this section, we will employ two straightforward methods to handle missing values in the PM10 data. \n",
    "\n",
    "The first method involves replacing missing values with the last known value in the series. The second method utilizes a current measurement from the nearest station, following the nearest neighbor approach.\n",
    "</div>\n"
   ]
  },
  {
   "cell_type": "code",
   "execution_count": null,
   "metadata": {},
   "outputs": [],
   "source": [
    "# Specify some date to plot\n",
    "day = datetime(2023, 10, 6)\n",
    "\n",
    "# Create a plot to display the linear interpolation for a range of hours\n",
    "prep_utils.visualize_missing_values_estimation_pm10(df, day)"
   ]
  },
  {
   "cell_type": "markdown",
   "metadata": {},
   "source": [
    "<div class=\"alert\">\n",
    "<p>Through this initial exploration, it is clear that the Nearest Neighbor method returns more promising results.</p>\n",
    "\n",
    "<p>But again, we will further assess the performance using the Median Absolute Error (MAE). To establish a baseline model, we will calculate the mean and subsequently explore alternative methods. This exploration includes a Simple Imputer using the mode and the Nearest Neighbor approach.</p>\n",
    "</div>"
   ]
  },
  {
   "cell_type": "code",
   "execution_count": null,
   "metadata": {},
   "outputs": [],
   "source": [
    "pm10_inputation_scores = {}\n",
    "\n",
    "pm10_inputation__mean_model, pm10_inputation_scores['baseline_model (mean)'] = prep_utils.calculate_mae_for_station_using_mean(df, target='PM10')\n",
    "pm10_inputation__mode_model, pm10_inputation_scores['Mode'] = prep_utils.calculate_mae_for_station_using_mode(df, target='PM10')\n",
    "pm10_inputation__knn_model, pm10_inputation_scores['KNN'] = prep_utils.calculate_mae_for_nearest_station(df, target='PM10', n_neighbors=4)\n"
   ]
  },
  {
   "cell_type": "code",
   "execution_count": null,
   "metadata": {},
   "outputs": [],
   "source": [
    "prep_utils.print_mae_results(pm10_inputation_scores)"
   ]
  },
  {
   "cell_type": "markdown",
   "metadata": {},
   "source": [
    "<div class=\"alert\">\n",
    "As we can see, KNN provides the lowest MAE.\n",
    "</div>"
   ]
  },
  {
   "cell_type": "markdown",
   "metadata": {},
   "source": [
    "<div class=\"alert\">\n",
    "<h3>Imputation</h3>\n",
    "We proceed to impute the missing values, we will use KNN for PM10 and Lineal Regression for PM2.5. \n",
    "</div>"
   ]
  },
  {
   "cell_type": "code",
   "execution_count": null,
   "metadata": {},
   "outputs": [],
   "source": [
    "# Imputate PM10 missing values with the nearest neighbor method\n",
    "imputed_with_knn = prep_utils.impute_pollutant_missing_values_with_knn(df, \"PM10\", pm10_inputation__knn_model)"
   ]
  },
  {
   "cell_type": "code",
   "execution_count": null,
   "metadata": {},
   "outputs": [],
   "source": [
    "# Imputate missing PM2.5 values with LR\n",
    "data_with_imputed = prep_utils.impute_target_missing_values_with_lineal_regression_model(df_with_missing=imputed_with_knn, model=pm25_inputation__lr_model, indepentend_var=\"PM10\", target=\"PM2.5\")"
   ]
  },
  {
   "cell_type": "code",
   "execution_count": null,
   "metadata": {},
   "outputs": [],
   "source": [
    "show(data_with_imputed)"
   ]
  },
  {
   "cell_type": "markdown",
   "metadata": {},
   "source": [
    "<div class=\"alert\">\n",
    "Finally, export the processed data!\n",
    "</div> "
   ]
  },
  {
   "cell_type": "code",
   "execution_count": null,
   "metadata": {},
   "outputs": [],
   "source": [
    "#save data\n",
    "prep_utils.save_interim_data(data_with_imputed, 'stations_data_with_imputed_values')"
   ]
  }
 ],
 "metadata": {
  "kernelspec": {
   "display_name": ".venv",
   "language": "python",
   "name": "python3"
  },
  "language_info": {
   "codemirror_mode": {
    "name": "ipython",
    "version": 3
   },
   "file_extension": ".py",
   "mimetype": "text/x-python",
   "name": "python",
   "nbconvert_exporter": "python",
   "pygments_lexer": "ipython3",
   "version": "3.10.12"
  }
 },
 "nbformat": 4,
 "nbformat_minor": 2
}
